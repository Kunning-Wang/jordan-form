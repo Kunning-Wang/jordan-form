{
 "cells": [
  {
   "cell_type": "code",
   "execution_count": 1,
   "metadata": {},
   "outputs": [],
   "source": [
    "#import package\n",
    "import sympy as sym\n",
    "sym.init_printing()\n",
    "from IPython.display import display_latex\n",
    "from IPython.display import Latex,Math,display\n",
    "import numpy as np\n",
    "from functools import reduce"
   ]
  },
  {
   "cell_type": "code",
   "execution_count": 2,
   "metadata": {},
   "outputs": [
    {
     "data": {
      "application/javascript": [
       "IPython.OutputArea.prototype._should_scroll = function(){return false}"
      ],
      "text/plain": [
       "<IPython.core.display.Javascript object>"
      ]
     },
     "metadata": {},
     "output_type": "display_data"
    }
   ],
   "source": [
    "%%javascript\n",
    "IPython.OutputArea.prototype._should_scroll = function(){return false}"
   ]
  },
  {
   "cell_type": "markdown",
   "metadata": {},
   "source": [
    "**Theroem**\n",
    "\n",
    "**If $T$ is a linear endomorphism of the vector space $V$ over an algebraically closed field $\\mathbb{F}$, then there is a basis such that the matrix representation of $T$ is in Jordan Normal Form.**\n",
    "\n",
    "**Algorithm JNF: Symbolic Jordan Normal Form**\n",
    "\n",
    "**Input: $A\\in\\mathbb{C}^{n\\times n}$**\n",
    "\n",
    "**Output: $J\\in\\mathbb{C}^{n\\times n}$ where $J$ is the Jordan Normal Form of $A$**\n",
    "\n",
    "1. Find all eigenvalues $\\lambda_1,\\cdots,\\lambda_N$ with algebraic multiplicity $m_1,\\cdots,m_N$ such that $\\sum_{k=1}^N m_k=n$\n",
    "2. Determine all eigenspaces $E(\\lambda_k,A)$ and generalized eigenspaces $E^{\\textbf{gen}}(\\lambda_k, A)$ as the nullspaces of $(A-\\lambda_k I)$ and $(A-\\lambda_k I)^{m_k}$ respectively.\n",
    "3. **for** $k$ **from** $1$ **to** $N$:\n",
    "4. $\\quad\\quad$Find $C$ such that $E^{\\textbf{gen}}(\\lambda_k, A)=E(\\lambda_k, A)\\oplus C$, Let $S=E(\\lambda_k, A)$, $i=1$\n",
    "5. $\\quad\\quad$**While** $C\\ne \\left\\{0\\right\\}$:\n",
    "6. $\\quad\\quad\\quad\\quad$Find a vector $v\\in C$ such that $v$ is not in the column space of $(A-\\lambda_k I)$\n",
    "7. $\\quad\\quad\\quad\\quad$**do:**\n",
    "8. $\\quad\\quad\\quad\\quad\\quad\\quad v\\leftarrow (A-\\lambda_k I)v$\n",
    "9. $\\quad\\quad\\quad\\quad$**while** $v\\notin E(\\lambda_k,A)$\n",
    "10. $\\quad\\quad\\quad\\quad$Denote all $v$ in line 6 and 8 as $v_{1i}^{(k)},\\cdots,v_{ji}^{(k)},\\cdots$ \n",
    "(earlierly generated $v$ has bigger index $j$)\n",
    "11. $\\quad\\quad\\quad\\quad$Find $S',C'$ such that $S=\\text{span}(v_{1i}^{(k)})\\oplus S'$ and $C=\\text{span}(v_{2i}^{(k)},\\cdots,v_{ji}^{(k)},\\cdots)\\oplus C'$\n",
    "12. $\\quad\\quad\\quad\\quad S\\leftarrow S',\\ C\\leftarrow C'$\n",
    "13. $\\quad\\quad\\quad\\quad i\\leftarrow i+1$\n",
    "14. $\\quad\\quad$**if** $S\\ne\\left\\{0\\right\\}$:\n",
    "15. $\\quad\\quad\\quad\\quad$Denote basis of $S$ as $v_{1i}^{(k)},\\cdots,v_{1m_k}^{(k)}$\n",
    "16. Let $P$ be a matrix whose columns are $v_{11}^{(1)},\\cdots,v_{j1}^{(1)},\\cdots,v_{12}^{(1)},\\cdots,v_{j2}^{(1)},\\cdots,v_{ji}^{(1)},\\cdots, v_{ji}^{(2)},\\cdots,v_{ji}^{(k)},\\cdots$\n",
    "17. **return** $J=P^{-1}AP$"
   ]
  },
  {
   "cell_type": "code",
   "execution_count": 3,
   "metadata": {},
   "outputs": [],
   "source": [
    "def ColumnContact(M):\n",
    "    ''' Join the list of column vectors into a matrix. '''\n",
    "    m = M.copy()\n",
    "    r = m[0]\n",
    "    for i in range(1,len(m)):\n",
    "        r = r.row_join(m[i])\n",
    "    return r\n",
    "\n",
    "def is_in_space(space,v):\n",
    "    ''' Judge whether the vector v is in the space. '''\n",
    "    S = space.copy()\n",
    "    vect = v.copy()\n",
    "    dim_S = len(S)\n",
    "    S.append(vect)\n",
    "    if ColumnContact(S).rank() > dim_S:\n",
    "        return False\n",
    "    return True\n",
    "\n",
    "def complementary(g,s):\n",
    "    ''' Find r such that g is the direct sum of s and r. '''\n",
    "    G = g.copy()\n",
    "    S = s.copy()\n",
    "    dim_diff = len(G) - len(S)\n",
    "    R = []\n",
    "    for vect in G:\n",
    "        if len(R) == dim_diff:\n",
    "            return R\n",
    "        if not is_in_space(S,vect):\n",
    "            R.append(vect)\n",
    "    return R\n",
    "        \n",
    "def JordanForm_analysis(A, opt):\n",
    "    ''' Calculate the Jordan Normal Form of A with analysis. '''\n",
    "\n",
    "    n = A.shape[0]\n",
    "    evs = A.eigenvects()\n",
    "    num = len(evs)\n",
    "    \n",
    "    list_of_eigenvalues = [vals[0] for vals in evs]\n",
    "    list_of_algebraic = [vals[1] for vals in evs]\n",
    "    list_of_matrices = [A - r * sym.eye(n) for r in list_of_eigenvalues]\n",
    "    list_of_genmatrices = [(A - list_of_eigenvalues[i] * sym.eye(n)) ** list_of_algebraic[i] for i in range(num)]\n",
    "    list_of_spaces = [M.nullspace() for M in list_of_matrices]\n",
    "    list_of_genspaces = [M.nullspace() for M in list_of_genmatrices]\n",
    "    list_of_transform = []\n",
    "    string = \"\"\n",
    "    totalstrings = \"\"\n",
    "\n",
    "    if opt:\n",
    "        display(Math(r'The\\  Matrix\\ A\\ is'))\n",
    "        display(A)\n",
    "        display(Math(r'The\\ eigenvalues\\ of\\ A\\ and\\ their\\ algebraic\\ multiplicity\\ are'))\n",
    "        for k in range(num):\n",
    "            display(Math(r'\\lambda_{}={}\\quad\\quad\\quad m_{}={}'.format(k+1,list_of_eigenvalues[k],k+1,list_of_algebraic[k])))\n",
    "    \n",
    "    for k in range(num):\n",
    "        \n",
    "        phi = list_of_matrices[k]\n",
    "        eigspace = list_of_spaces[k]\n",
    "        genspace = list_of_genspaces[k]\n",
    "        complement = complementary(genspace, eigspace)\n",
    "        list_of_vij = []\n",
    "        i = 1\n",
    "        \n",
    "        if opt:\n",
    "            display(Math(r'({})\\ Consider\\ the\\ eigenvalue\\  \\lambda_{}={}\\ with\\ algebraic\\ multiplicity\\ m_{}={}'\n",
    "                         .format(k+1,k+1,list_of_eigenvalues[k],k+1,list_of_algebraic[k])))\n",
    "            display(Math(r'The\\ Matrix\\ A-({})I\\ and\\ (A-({})I)^{}\\ are'\n",
    "                         .format(list_of_eigenvalues[k],list_of_eigenvalues[k],list_of_algebraic[k])))\n",
    "            display([list_of_matrices[k],list_of_genmatrices[k]])\n",
    "            display(Math(r'The\\ corresponding\\ eigenspace\\ E({},A)\\ is\\ the\\ nullspace\\ of\\ A-({})I,\\ which\\ is\\ spanned\\ by'\n",
    "                     .format(list_of_eigenvalues[k],list_of_eigenvalues[k])))\n",
    "            display(eigspace)\n",
    "            display(Math(\n",
    "                r'And\\ the\\ corresponding\\ generalized\\ eigenspace\\ E^g({},A)\\ is\\ the\\ nullspace\\ of\\ (A-({})I)^{},\\ which\\ is\\ spanned\\ by'\n",
    "                     .format(list_of_eigenvalues[k],list_of_eigenvalues[k],list_of_algebraic[k])))\n",
    "            display(genspace)\n",
    "        \n",
    "        while len(complement) > 0:\n",
    "            j = 1\n",
    "            list_of_bunch = []\n",
    "            vect = complement[0]\n",
    "            if opt:\n",
    "                string = 'v_{'+str(j)+str(i)+'}^{('+str(k+1)+')}'\n",
    "                display(Math(r'Now\\ we\\ choose\\ a\\ vector\\ v\\ in\\ E^g({},A)\\ but\\ not\\ in\\ E({},A),\\ i.e.'\n",
    "                         .format(list_of_eigenvalues[k],list_of_eigenvalues[k])))\n",
    "                display(vect)\n",
    "            while not is_in_space(list_of_spaces[k], vect):\n",
    "                list_of_bunch.insert(0, vect)\n",
    "                vect = phi * vect \n",
    "                j = j + 1 \n",
    "                if opt:\n",
    "                    string = string + r',\\ v_{'+str(j)+str(i)+'}^{('+str(k+1)+')}'\n",
    "            eigspace = complementary(eigspace, [vect])\n",
    "            complement = complementary(complement, list_of_bunch)\n",
    "            list_of_bunch.insert(0, vect)     \n",
    "            list_of_vij.extend(list_of_bunch)\n",
    "            i = i + 1\n",
    "            if opt:\n",
    "                display(Math(r'Apply\\ A-({})I\\ on\\ v\\ constantly\\ (untill\\ v\\in E({},A))\\ derives\\ a\\ bunch\\ of\\ vectors\\ '\n",
    "                             .format(list_of_eigenvalues[k],list_of_eigenvalues[k])))\n",
    "                display(Math(r'['+string+']='))\n",
    "                display(list_of_bunch)\n",
    "                totalstrings = totalstrings + string + r',\\ '   \n",
    "            \n",
    "        if len(eigspace)>0:\n",
    "            list_of_vij.extend(eigspace)\n",
    "            if opt:\n",
    "                j = 1\n",
    "                string = 'v_{'+str(j)+str(i)+'}^{('+str(k+1)+')}'\n",
    "                for js in range(len(eigspace)-1):\n",
    "                    j = j + 1\n",
    "                    string = string + r',\\ v_{'+str(j)+str(i)+'}^{('+str(k+1)+')}'\n",
    "                display(Math(\n",
    "                    r'At\\ this\\ time,\\  we\\ need\\ to\\ find\\ the\\ remaining\\ element(s)\\ in\\ E({},A)\\ for\\ extending\\ to\\ a\\ basis'\n",
    "                .format(list_of_eigenvalues[k])))\n",
    "                display(Math(r'['+string+']='))\n",
    "                display(eigspace)\n",
    "                totalstrings = totalstrings + string + r',\\ '\n",
    "                \n",
    "        list_of_transform.extend(list_of_vij)            \n",
    "        \n",
    "    P = ColumnContact(list_of_transform)\n",
    "    J = sym.Inverse(P)*A*P\n",
    "    if opt:\n",
    "        display(Math(r'Finally,\\ the\\ invertible\\ matrix\\ P=['+totalstrings[:-3]+']='))\n",
    "        display(P)\n",
    "        display(Math(r'And\\ hence,\\ the\\ Jordn\\ Normal\\ Form\\ is\\ given\\ by\\ J=P^{-1}AP='))\n",
    "        display(J)\n",
    "    \n",
    "    return J\n",
    "\n",
    "def JordanForm(A):\n",
    "    '''# Calculate the Jordan Normal Form of A without analysis. '''  \n",
    "    \n",
    "    return JordanForm_analysis(A, False)"
   ]
  },
  {
   "cell_type": "code",
   "execution_count": 4,
   "metadata": {},
   "outputs": [
    {
     "data": {
      "text/latex": [
       "$$The\\  Matrix\\ A\\ is$$"
      ],
      "text/plain": [
       "<IPython.core.display.Math object>"
      ]
     },
     "metadata": {},
     "output_type": "display_data"
    },
    {
     "data": {
      "image/png": "[encoded data removed]",
      "text/latex": [
       "$\\displaystyle \\left[\\begin{matrix}4 & -1 & -3 & 2\\\\4 & -2 & -4 & 4\\\\-4 & 4 & 6 & -4\\\\-6 & 5 & 7 & -4\\end{matrix}\\right]$"
      ],
      "text/plain": [
       "⎡4   -1  -3  2 ⎤\n",
       "⎢              ⎥\n",
       "⎢4   -2  -4  4 ⎥\n",
       "⎢              ⎥\n",
       "⎢-4  4   6   -4⎥\n",
       "⎢              ⎥\n",
       "⎣-6  5   7   -4⎦"
      ]
     },
     "metadata": {},
     "output_type": "display_data"
    },
    {
     "data": {
      "text/latex": [
       "$$The\\ eigenvalues\\ of\\ A\\ and\\ their\\ algebraic\\ multiplicity\\ are$$"
      ],
      "text/plain": [
       "<IPython.core.display.Math object>"
      ]
     },
     "metadata": {},
     "output_type": "display_data"
    },
    {
     "data": {
      "text/latex": [
       "$$\\lambda_1=-2\\quad\\quad\\quad m_1=1$$"
      ],
      "text/plain": [
       "<IPython.core.display.Math object>"
      ]
     },
     "metadata": {},
     "output_type": "display_data"
    },
    {
     "data": {
      "text/latex": [
       "$$\\lambda_2=2\\quad\\quad\\quad m_2=3$$"
      ],
      "text/plain": [
       "<IPython.core.display.Math object>"
      ]
     },
     "metadata": {},
     "output_type": "display_data"
    },
    {
     "data": {
      "text/latex": [
       "$$(1)\\ Consider\\ the\\ eigenvalue\\  \\lambda_1=-2\\ with\\ algebraic\\ multiplicity\\ m_1=1$$"
      ],
      "text/plain": [
       "<IPython.core.display.Math object>"
      ]
     },
     "metadata": {},
     "output_type": "display_data"
    },
    {
     "data": {
      "text/latex": [
       "$$The\\ Matrix\\ A-(-2)I\\ and\\ (A-(-2)I)^1\\ are$$"
      ],
      "text/plain": [
       "<IPython.core.display.Math object>"
      ]
     },
     "metadata": {},
     "output_type": "display_data"
    },
    {
     "data": {
      "image/png": "[encoded data removed]",
      "text/latex": [
       "$\\displaystyle \\left[ \\left[\\begin{matrix}6 & -1 & -3 & 2\\\\4 & 0 & -4 & 4\\\\-4 & 4 & 8 & -4\\\\-6 & 5 & 7 & -2\\end{matrix}\\right], \\  \\left[\\begin{matrix}6 & -1 & -3 & 2\\\\4 & 0 & -4 & 4\\\\-4 & 4 & 8 & -4\\\\-6 & 5 & 7 & -2\\end{matrix}\\right]\\right]$"
      ],
      "text/plain": [
       "⎡⎡6   -1  -3  2 ⎤  ⎡6   -1  -3  2 ⎤⎤\n",
       "⎢⎢              ⎥  ⎢              ⎥⎥\n",
       "⎢⎢4   0   -4  4 ⎥  ⎢4   0   -4  4 ⎥⎥\n",
       "⎢⎢              ⎥, ⎢              ⎥⎥\n",
       "⎢⎢-4  4   8   -4⎥  ⎢-4  4   8   -4⎥⎥\n",
       "⎢⎢              ⎥  ⎢              ⎥⎥\n",
       "⎣⎣-6  5   7   -2⎦  ⎣-6  5   7   -2⎦⎦"
      ]
     },
     "metadata": {},
     "output_type": "display_data"
    },
    {
     "data": {
      "text/latex": [
       "$$The\\ corresponding\\ eigenspace\\ E(-2,A)\\ is\\ the\\ nullspace\\ of\\ A-(-2)I,\\ which\\ is\\ spanned\\ by$$"
      ],
      "text/plain": [
       "<IPython.core.display.Math object>"
      ]
     },
     "metadata": {},
     "output_type": "display_data"
    },
    {
     "data": {
      "image/png": "[encoded data removed]",
      "text/latex": [
       "$\\displaystyle \\left[ \\left[\\begin{matrix}0\\\\-1\\\\1\\\\1\\end{matrix}\\right]\\right]$"
      ],
      "text/plain": [
       "⎡⎡0 ⎤⎤\n",
       "⎢⎢  ⎥⎥\n",
       "⎢⎢-1⎥⎥\n",
       "⎢⎢  ⎥⎥\n",
       "⎢⎢1 ⎥⎥\n",
       "⎢⎢  ⎥⎥\n",
       "⎣⎣1 ⎦⎦"
      ]
     },
     "metadata": {},
     "output_type": "display_data"
    },
    {
     "data": {
      "text/latex": [
       "$$And\\ the\\ corresponding\\ generalized\\ eigenspace\\ E^g(-2,A)\\ is\\ the\\ nullspace\\ of\\ (A-(-2)I)^1,\\ which\\ is\\ spanned\\ by$$"
      ],
      "text/plain": [
       "<IPython.core.display.Math object>"
      ]
     },
     "metadata": {},
     "output_type": "display_data"
    },
    {
     "data": {
      "image/png": "[encoded data removed]",
      "text/latex": [
       "$\\displaystyle \\left[ \\left[\\begin{matrix}0\\\\-1\\\\1\\\\1\\end{matrix}\\right]\\right]$"
      ],
      "text/plain": [
       "⎡⎡0 ⎤⎤\n",
       "⎢⎢  ⎥⎥\n",
       "⎢⎢-1⎥⎥\n",
       "⎢⎢  ⎥⎥\n",
       "⎢⎢1 ⎥⎥\n",
       "⎢⎢  ⎥⎥\n",
       "⎣⎣1 ⎦⎦"
      ]
     },
     "metadata": {},
     "output_type": "display_data"
    },
    {
     "data": {
      "text/latex": [
       "$$At\\ this\\ time,\\  we\\ need\\ to\\ find\\ the\\ remaining\\ element(s)\\ in\\ E(-2,A)\\ for\\ extending\\ to\\ a\\ basis$$"
      ],
      "text/plain": [
       "<IPython.core.display.Math object>"
      ]
     },
     "metadata": {},
     "output_type": "display_data"
    },
    {
     "data": {
      "text/latex": [
       "$$[v_{11}^{(1)}]=$$"
      ],
      "text/plain": [
       "<IPython.core.display.Math object>"
      ]
     },
     "metadata": {},
     "output_type": "display_data"
    },
    {
     "data": {
      "image/png": "[encoded data removed]",
      "text/latex": [
       "$\\displaystyle \\left[ \\left[\\begin{matrix}0\\\\-1\\\\1\\\\1\\end{matrix}\\right]\\right]$"
      ],
      "text/plain": [
       "⎡⎡0 ⎤⎤\n",
       "⎢⎢  ⎥⎥\n",
       "⎢⎢-1⎥⎥\n",
       "⎢⎢  ⎥⎥\n",
       "⎢⎢1 ⎥⎥\n",
       "⎢⎢  ⎥⎥\n",
       "⎣⎣1 ⎦⎦"
      ]
     },
     "metadata": {},
     "output_type": "display_data"
    },
    {
     "data": {
      "text/latex": [
       "$$(2)\\ Consider\\ the\\ eigenvalue\\  \\lambda_2=2\\ with\\ algebraic\\ multiplicity\\ m_2=3$$"
      ],
      "text/plain": [
       "<IPython.core.display.Math object>"
      ]
     },
     "metadata": {},
     "output_type": "display_data"
    },
    {
     "data": {
      "text/latex": [
       "$$The\\ Matrix\\ A-(2)I\\ and\\ (A-(2)I)^3\\ are$$"
      ],
      "text/plain": [
       "<IPython.core.display.Math object>"
      ]
     },
     "metadata": {},
     "output_type": "display_data"
    },
    {
     "data": {
      "image/png": "[encoded data removed]",
      "text/latex": [
       "$\\displaystyle \\left[ \\left[\\begin{matrix}2 & -1 & -3 & 2\\\\4 & -4 & -4 & 4\\\\-4 & 4 & 4 & -4\\\\-6 & 5 & 7 & -6\\end{matrix}\\right], \\  \\left[\\begin{matrix}0 & 0 & 0 & 0\\\\64 & -64 & -64 & 64\\\\-64 & 64 & 64 & -64\\\\-64 & 64 & 64 & -64\\end{matrix}\\right]\\right]$"
      ],
      "text/plain": [
       "⎡⎡2   -1  -3  2 ⎤  ⎡ 0    0    0    0 ⎤⎤\n",
       "⎢⎢              ⎥  ⎢                  ⎥⎥\n",
       "⎢⎢4   -4  -4  4 ⎥  ⎢64   -64  -64  64 ⎥⎥\n",
       "⎢⎢              ⎥, ⎢                  ⎥⎥\n",
       "⎢⎢-4  4   4   -4⎥  ⎢-64  64   64   -64⎥⎥\n",
       "⎢⎢              ⎥  ⎢                  ⎥⎥\n",
       "⎣⎣-6  5   7   -6⎦  ⎣-64  64   64   -64⎦⎦"
      ]
     },
     "metadata": {},
     "output_type": "display_data"
    },
    {
     "data": {
      "text/latex": [
       "$$The\\ corresponding\\ eigenspace\\ E(2,A)\\ is\\ the\\ nullspace\\ of\\ A-(2)I,\\ which\\ is\\ spanned\\ by$$"
      ],
      "text/plain": [
       "<IPython.core.display.Math object>"
      ]
     },
     "metadata": {},
     "output_type": "display_data"
    },
    {
     "data": {
      "image/png": "[encoded data removed]",
      "text/latex": [
       "$\\displaystyle \\left[ \\left[\\begin{matrix}2\\\\1\\\\1\\\\0\\end{matrix}\\right], \\  \\left[\\begin{matrix}-1\\\\0\\\\0\\\\1\\end{matrix}\\right]\\right]$"
      ],
      "text/plain": [
       "⎡⎡2⎤  ⎡-1⎤⎤\n",
       "⎢⎢ ⎥  ⎢  ⎥⎥\n",
       "⎢⎢1⎥  ⎢0 ⎥⎥\n",
       "⎢⎢ ⎥, ⎢  ⎥⎥\n",
       "⎢⎢1⎥  ⎢0 ⎥⎥\n",
       "⎢⎢ ⎥  ⎢  ⎥⎥\n",
       "⎣⎣0⎦  ⎣1 ⎦⎦"
      ]
     },
     "metadata": {},
     "output_type": "display_data"
    },
    {
     "data": {
      "text/latex": [
       "$$And\\ the\\ corresponding\\ generalized\\ eigenspace\\ E^g(2,A)\\ is\\ the\\ nullspace\\ of\\ (A-(2)I)^3,\\ which\\ is\\ spanned\\ by$$"
      ],
      "text/plain": [
       "<IPython.core.display.Math object>"
      ]
     },
     "metadata": {},
     "output_type": "display_data"
    },
    {
     "data": {
      "image/png": "[encoded data removed]",
      "text/latex": [
       "$\\displaystyle \\left[ \\left[\\begin{matrix}1\\\\1\\\\0\\\\0\\end{matrix}\\right], \\  \\left[\\begin{matrix}1\\\\0\\\\1\\\\0\\end{matrix}\\right], \\  \\left[\\begin{matrix}-1\\\\0\\\\0\\\\1\\end{matrix}\\right]\\right]$"
      ],
      "text/plain": [
       "⎡⎡1⎤  ⎡1⎤  ⎡-1⎤⎤\n",
       "⎢⎢ ⎥  ⎢ ⎥  ⎢  ⎥⎥\n",
       "⎢⎢1⎥  ⎢0⎥  ⎢0 ⎥⎥\n",
       "⎢⎢ ⎥, ⎢ ⎥, ⎢  ⎥⎥\n",
       "⎢⎢0⎥  ⎢1⎥  ⎢0 ⎥⎥\n",
       "⎢⎢ ⎥  ⎢ ⎥  ⎢  ⎥⎥\n",
       "⎣⎣0⎦  ⎣0⎦  ⎣1 ⎦⎦"
      ]
     },
     "metadata": {},
     "output_type": "display_data"
    },
    {
     "data": {
      "text/latex": [
       "$$Now\\ we\\ choose\\ a\\ vector\\ v\\ in\\ E^g(2,A)\\ but\\ not\\ in\\ E(2,A),\\ i.e.$$"
      ],
      "text/plain": [
       "<IPython.core.display.Math object>"
      ]
     },
     "metadata": {},
     "output_type": "display_data"
    },
    {
     "data": {
      "image/png": "[encoded data removed]",
      "text/latex": [
       "$\\displaystyle \\left[\\begin{matrix}1\\\\1\\\\0\\\\0\\end{matrix}\\right]$"
      ],
      "text/plain": [
       "⎡1⎤\n",
       "⎢ ⎥\n",
       "⎢1⎥\n",
       "⎢ ⎥\n",
       "⎢0⎥\n",
       "⎢ ⎥\n",
       "⎣0⎦"
      ]
     },
     "metadata": {},
     "output_type": "display_data"
    },
    {
     "data": {
      "text/latex": [
       "$$Apply\\ A-(2)I\\ on\\ v\\ constantly\\ (untill\\ v\\in E(2,A))\\ derives\\ a\\ bunch\\ of\\ vectors\\ $$"
      ],
      "text/plain": [
       "<IPython.core.display.Math object>"
      ]
     },
     "metadata": {},
     "output_type": "display_data"
    },
    {
     "data": {
      "text/latex": [
       "$$[v_{11}^{(2)},\\ v_{21}^{(2)}]=$$"
      ],
      "text/plain": [
       "<IPython.core.display.Math object>"
      ]
     },
     "metadata": {},
     "output_type": "display_data"
    },
    {
     "data": {
      "image/png": "[encoded data removed]",
      "text/latex": [
       "$\\displaystyle \\left[ \\left[\\begin{matrix}1\\\\0\\\\0\\\\-1\\end{matrix}\\right], \\  \\left[\\begin{matrix}1\\\\1\\\\0\\\\0\\end{matrix}\\right]\\right]$"
      ],
      "text/plain": [
       "⎡⎡1 ⎤  ⎡1⎤⎤\n",
       "⎢⎢  ⎥  ⎢ ⎥⎥\n",
       "⎢⎢0 ⎥  ⎢1⎥⎥\n",
       "⎢⎢  ⎥, ⎢ ⎥⎥\n",
       "⎢⎢0 ⎥  ⎢0⎥⎥\n",
       "⎢⎢  ⎥  ⎢ ⎥⎥\n",
       "⎣⎣-1⎦  ⎣0⎦⎦"
      ]
     },
     "metadata": {},
     "output_type": "display_data"
    },
    {
     "data": {
      "text/latex": [
       "$$At\\ this\\ time,\\  we\\ need\\ to\\ find\\ the\\ remaining\\ element(s)\\ in\\ E(2,A)\\ for\\ extending\\ to\\ a\\ basis$$"
      ],
      "text/plain": [
       "<IPython.core.display.Math object>"
      ]
     },
     "metadata": {},
     "output_type": "display_data"
    },
    {
     "data": {
      "text/latex": [
       "$$[v_{12}^{(2)}]=$$"
      ],
      "text/plain": [
       "<IPython.core.display.Math object>"
      ]
     },
     "metadata": {},
     "output_type": "display_data"
    },
    {
     "data": {
      "image/png": "[encoded data removed]",
      "text/latex": [
       "$\\displaystyle \\left[ \\left[\\begin{matrix}2\\\\1\\\\1\\\\0\\end{matrix}\\right]\\right]$"
      ],
      "text/plain": [
       "⎡⎡2⎤⎤\n",
       "⎢⎢ ⎥⎥\n",
       "⎢⎢1⎥⎥\n",
       "⎢⎢ ⎥⎥\n",
       "⎢⎢1⎥⎥\n",
       "⎢⎢ ⎥⎥\n",
       "⎣⎣0⎦⎦"
      ]
     },
     "metadata": {},
     "output_type": "display_data"
    },
    {
     "data": {
      "text/latex": [
       "$$Finally,\\ the\\ invertible\\ matrix\\ P=[v_{11}^{(1)},\\ v_{11}^{(2)},\\ v_{21}^{(2)},\\ v_{12}^{(2)}]=$$"
      ],
      "text/plain": [
       "<IPython.core.display.Math object>"
      ]
     },
     "metadata": {},
     "output_type": "display_data"
    },
    {
     "data": {
      "image/png": "[encoded data removed]",
      "text/latex": [
       "$\\displaystyle \\left[\\begin{matrix}0 & 1 & 1 & 2\\\\-1 & 0 & 1 & 1\\\\1 & 0 & 0 & 1\\\\1 & -1 & 0 & 0\\end{matrix}\\right]$"
      ],
      "text/plain": [
       "⎡0   1   1  2⎤\n",
       "⎢            ⎥\n",
       "⎢-1  0   1  1⎥\n",
       "⎢            ⎥\n",
       "⎢1   0   0  1⎥\n",
       "⎢            ⎥\n",
       "⎣1   -1  0  0⎦"
      ]
     },
     "metadata": {},
     "output_type": "display_data"
    },
    {
     "data": {
      "text/latex": [
       "$$And\\ hence,\\ the\\ Jordn\\ Normal\\ Form\\ is\\ given\\ by\\ J=P^{-1}AP=$$"
      ],
      "text/plain": [
       "<IPython.core.display.Math object>"
      ]
     },
     "metadata": {},
     "output_type": "display_data"
    },
    {
     "data": {
      "image/png": "[encoded data removed]",
      "text/latex": [
       "$\\displaystyle \\left[\\begin{matrix}-2 & 0 & 0 & 0\\\\0 & 2 & 1 & 0\\\\0 & 0 & 2 & 0\\\\0 & 0 & 0 & 2\\end{matrix}\\right]$"
      ],
      "text/plain": [
       "⎡-2  0  0  0⎤\n",
       "⎢           ⎥\n",
       "⎢0   2  1  0⎥\n",
       "⎢           ⎥\n",
       "⎢0   0  2  0⎥\n",
       "⎢           ⎥\n",
       "⎣0   0  0  2⎦"
      ]
     },
     "metadata": {},
     "output_type": "display_data"
    }
   ],
   "source": [
    "A = sym.Matrix([[3,0,0],[0,4,-1],[0,1,2]])\n",
    "\n",
    "# using JordanForm_analysis function to transform A\n",
    "J = JordanForm_analysis(A,True)"
   ]
  },
  {
   "cell_type": "code",
   "execution_count": null,
   "metadata": {},
   "outputs": [],
   "source": []
  }
 ],
 "metadata": {
  "kernelspec": {
   "display_name": "Python 3",
   "language": "python",
   "name": "python3"
  },
  "language_info": {
   "codemirror_mode": {
    "name": "ipython",
    "version": 3
   },
   "file_extension": ".py",
   "mimetype": "text/x-python",
   "name": "python",
   "nbconvert_exporter": "python",
   "pygments_lexer": "ipython3",
   "version": "3.8.3"
  }
 },
 "nbformat": 4,
 "nbformat_minor": 2
}
